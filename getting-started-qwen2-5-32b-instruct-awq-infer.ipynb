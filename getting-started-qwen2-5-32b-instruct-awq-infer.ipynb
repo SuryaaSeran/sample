{
 "cells": [
  {
   "cell_type": "markdown",
   "id": "0e772e31",
   "metadata": {
    "papermill": {
     "duration": 0.004318,
     "end_time": "2025-03-29T22:05:15.528815",
     "exception": false,
     "start_time": "2025-03-29T22:05:15.524497",
     "status": "completed"
    },
    "tags": []
   },
   "source": [
    "This is the infer notebook.\n",
    "For evaluation on training set, refer to [Getting Started Qwen2.5-32b-instruct-awq [eval]](https://www.kaggle.com/code/jiazhuang/getting-started-qwen2-5-32b-instruct-awq-eval)"
   ]
  },
  {
   "cell_type": "code",
   "execution_count": 1,
   "id": "4cc7c78e",
   "metadata": {
    "execution": {
     "iopub.execute_input": "2025-03-29T22:05:15.537556Z",
     "iopub.status.busy": "2025-03-29T22:05:15.537185Z",
     "iopub.status.idle": "2025-03-29T22:05:15.542806Z",
     "shell.execute_reply": "2025-03-29T22:05:15.541896Z"
    },
    "papermill": {
     "duration": 0.01154,
     "end_time": "2025-03-29T22:05:15.544082",
     "exception": false,
     "start_time": "2025-03-29T22:05:15.532542",
     "status": "completed"
    },
    "tags": []
   },
   "outputs": [],
   "source": [
    "#| default_exp core"
   ]
  },
  {
   "cell_type": "code",
   "execution_count": 2,
   "id": "aa30aa4a",
   "metadata": {
    "execution": {
     "iopub.execute_input": "2025-03-29T22:05:15.552075Z",
     "iopub.status.busy": "2025-03-29T22:05:15.551834Z",
     "iopub.status.idle": "2025-03-29T22:05:44.797483Z",
     "shell.execute_reply": "2025-03-29T22:05:44.796684Z"
    },
    "papermill": {
     "duration": 29.251209,
     "end_time": "2025-03-29T22:05:44.799076",
     "exception": false,
     "start_time": "2025-03-29T22:05:15.547867",
     "status": "completed"
    },
    "tags": []
   },
   "outputs": [
    {
     "name": "stdout",
     "output_type": "stream",
     "text": [
      "INFO 03-29 22:05:42 [__init__.py:239] Automatically detected platform cuda.\n"
     ]
    }
   ],
   "source": [
    "#| export\n",
    "\n",
    "import vllm\n",
    "\n",
    "import concurrent\n",
    "import io\n",
    "import logging\n",
    "import re\n",
    "import re2\n",
    "\n",
    "import cairosvg\n",
    "import kagglehub\n",
    "import torch\n",
    "from lxml import etree\n",
    "\n",
    "svg_constraints = kagglehub.package_import('metric/svg-constraints')"
   ]
  },
  {
   "cell_type": "code",
   "execution_count": 3,
   "id": "433668b1",
   "metadata": {
    "execution": {
     "iopub.execute_input": "2025-03-29T22:05:44.808598Z",
     "iopub.status.busy": "2025-03-29T22:05:44.808121Z",
     "iopub.status.idle": "2025-03-29T22:05:44.823349Z",
     "shell.execute_reply": "2025-03-29T22:05:44.822696Z"
    },
    "papermill": {
     "duration": 0.021272,
     "end_time": "2025-03-29T22:05:44.824638",
     "exception": false,
     "start_time": "2025-03-29T22:05:44.803366",
     "status": "completed"
    },
    "tags": []
   },
   "outputs": [],
   "source": [
    "#| export\n",
    "\n",
    "num_attempt = 6\n",
    "\n",
    "class Model:\n",
    "    def __init__(self):\n",
    "        self.model_path = kagglehub.model_download('qwen-lm/qwen2.5/Transformers/32b-instruct-awq/1')\n",
    "        self.llm = vllm.LLM(\n",
    "            self.model_path,\n",
    "            quantization=\"awq\",\n",
    "            tensor_parallel_size=2,\n",
    "            gpu_memory_utilization=0.95,\n",
    "            trust_remote_code=True,\n",
    "            dtype=\"half\",\n",
    "            enforce_eager=True,\n",
    "            max_model_len=5120,\n",
    "            disable_log_stats=True\n",
    "        )\n",
    "        self.sampling_params = vllm.SamplingParams(\n",
    "            n=1,  # Number of output sequences to return for each prompt.\n",
    "            top_k=20,  # Float that controls the cumulative probability of the top tokens to consider.\n",
    "            top_p=0.8,\n",
    "            temperature=0.7,  # randomness of the sampling\n",
    "            repetition_penalty=1.05,\n",
    "            # seed=777, # Seed for reprodicibility\n",
    "            skip_special_tokens=False,  # Whether to skip special tokens in the output.\n",
    "            max_tokens=512,  # Maximum number of tokens to generate per output sequence.\n",
    "        )\n",
    "        self.tokenizer = self.llm.get_tokenizer()\n",
    "        self.prompt_template = \"\"\"Your task is to generate complete, valid SVG code that visually represents a given scene described in natural language.\n",
    "\n",
    "<constraints>\n",
    "* Allowed SVG Elements:\n",
    "  svg, path, circle, rect, ellipse, line, polyline, polygon, g, linearGradient, radialGradient, stop, defs\n",
    "\n",
    "* Allowed Attributes:\n",
    "  viewBox, width, height, fill, stroke, stroke-width, d, cx, cy, r, x, y, rx, ry,\n",
    "  x1, y1, x2, y2, points, transform, opacity\n",
    "</constraints>\n",
    "\n",
    "<requirements>\n",
    "* Use only the allowed SVG elements and attributes listed above.\n",
    "* Your output must be a complete SVG block — begin with `<svg>` and end with `</svg>`.\n",
    "* Do not include explanatory text, comments, or ellipses (`...`) — only valid SVG markup.\n",
    "* Ensure the image you create clearly and accurately represents the provided description.\n",
    "* Be visually expressive, using position, shape, size, and color effectively.\n",
    "</requirements>\n",
    "\n",
    "<example 1>\n",
    "<description>\"A red circle with a blue square inside\"</description>\n",
    "<output>\n",
    "<svg viewBox=\"0 0 256 256\" width=\"256\" height=\"256\">\n",
    "  <circle cx=\"50\" cy=\"50\" r=\"40\" fill=\"red\"/>\n",
    "  <rect x=\"30\" y=\"30\" width=\"40\" height=\"40\" fill=\"blue\"/>\n",
    "</svg>\n",
    "</output>\n",
    "</example 1>\n",
    "\n",
    "<example 2>\n",
    "<description>\"A yellow sun above green hills\"</description>\n",
    "<output>\n",
    "<svg viewBox=\"0 0 256 256\" width=\"256\" height=\"256\">\n",
    "  <circle cx=\"200\" cy=\"50\" r=\"30\" fill=\"yellow\"/>\n",
    "  <path d=\"M0 180 Q 64 120, 128 180 T 256 180 V256 H0 Z\" fill=\"green\"/>\n",
    "</svg>\n",
    "</output>\n",
    "</example 2>\n",
    "\n",
    "<example 3>\n",
    "<description>\"A star shape made out of transformed polygons\"</description>\n",
    "<output>\n",
    "<svg width=\"200\" height=\"200\" viewBox=\"-100 -100 200 200\">\n",
    "  <g transform=\"translate(0 5)\">\n",
    "    <g>\n",
    "      <polygon points=\"0,0 36,-50 0,-100\" fill=\"#EDD8B7\" />\n",
    "      <polygon points=\"0,0 -36,-50 0,-100\" fill=\"#E5C39C\" />\n",
    "    </g>\n",
    "    <g transform=\"rotate(72)\">\n",
    "      <polygon points=\"0,0 36,-50 0,-100\" fill=\"#EDD8B7\" />\n",
    "      <polygon points=\"0,0 -36,-50 0,-100\" fill=\"#E5C39C\" />\n",
    "    </g>\n",
    "    <g transform=\"rotate(-72)\">\n",
    "      <polygon points=\"0,0 36,-50 0,-100\" fill=\"#EDD8B7\" />\n",
    "      <polygon points=\"0,0 -36,-50 0,-100\" fill=\"#E5C39C\" />\n",
    "    </g>\n",
    "    <g transform=\"rotate(144)\">\n",
    "      <polygon points=\"0,0 36,-50 0,-100\" fill=\"#EDD8B7\" />\n",
    "      <polygon points=\"0,0 -36,-50 0,-100\" fill=\"#E5C39C\" />\n",
    "    </g>\n",
    "    <g transform=\"rotate(-144)\">\n",
    "      <polygon points=\"0,0 36,-50 0,-100\" fill=\"#EDD8B7\" />\n",
    "      <polygon points=\"0,0 -36,-50 0,-100\" fill=\"#E5C39C\" />\n",
    "    </g>\n",
    "  </g>\n",
    "</svg>\n",
    "</output>\n",
    "</example 3>\n",
    "\n",
    "<example 4>\n",
    "<description>\"A few stylized trees of varying sizes standing on a soft hill against a light background\"</description>\n",
    "<output>\n",
    "<svg width=\"200\" height=\"200\" viewBox=\"-100 -100 200 200\">\n",
    "  <defs>\n",
    "    <g id=\"tree\">\n",
    "      <polygon points=\"-10,0 10,0 0 -50\" fill=\"#38755b\" />\n",
    "      <line x1=\"0\" y1=\"0\" x2=\"0\" y2=\"10\" stroke=\"#778074\" stroke-width=\"2\" />\n",
    "    </g>\n",
    "  </defs>\n",
    "\n",
    "  <rect x=\"-100\" y=\"-100\" width=\"200\" height=\"200\" fill=\"#F1DBC3\" />\n",
    "  <circle cx=\"0\" cy=\"380\" r=\"350\" fill=\"#F8F4E8\" />\n",
    "\n",
    "  <use href=\"#tree\" x=\"-30\" y=\"25\" transform=\"scale(2)\" />\n",
    "  <use href=\"#tree\" x=\"-20\" y=\"40\" transform=\"scale(1.2)\" />\n",
    "  <use href=\"#tree\" x=\"40\" y=\"40\" />\n",
    "  <use href=\"#tree\" x=\"50\" y=\"30\" transform=\"scale(1.5)\" />\n",
    "</svg>\n",
    "</output>\n",
    "</example 4>\n",
    "\n",
    "<example 5>\n",
    "<description>\"A yellow bell with a dark clapper and orange bottom rim\"</description>\n",
    "<output>\n",
    "<svg width=\"200\" height=\"200\" viewBox=\"-100 -100 200 200\">\n",
    "  <g stroke=\"black\" stroke-width=\"2\">\n",
    "    <circle cx=\"0\" cy=\"-45\" r=\"7\" fill=\"#4F6D7A\" />\n",
    "    <circle cx=\"0\" cy=\"50\" r=\"10\" fill=\"#F79257\" />\n",
    "    <path\n",
    "      d=\"\n",
    "        M -50 40\n",
    "        L -50 50\n",
    "        L 50 50\n",
    "        L 50 40\n",
    "        Q 40 40 40 10\n",
    "        C 40 -60 -40 -60 -40 10   \n",
    "        Q -40 40 -50 40\"\n",
    "      fill=\"#FDEA96\"\n",
    "    />\n",
    "  </g>\n",
    "</svg>\n",
    "</output>\n",
    "</example 5>\n",
    "\n",
    "<description>\"{}\"</description>\n",
    "<output>\n",
    "<svg viewBox=\"0 0 256 256\" width=\"256\" height=\"256\">\n",
    "\"\"\"\n",
    "        self.default_svg = \"\"\"<svg width=\"256\" height=\"256\" viewBox=\"0 0 256 256\"><circle cx=\"50\" cy=\"50\" r=\"40\" fill=\"red\" /></svg>\"\"\"\n",
    "        self.constraints = svg_constraints.SVGConstraints()\n",
    "        self.timeout_seconds = 90\n",
    "\n",
    "    # You could try increasing `max_new_tokens`\n",
    "    def predict(self, description: str, max_new_tokens=512) -> str:\n",
    "        def apply_template(prompt, tokenizer):\n",
    "            messages = [\n",
    "                {\"role\": \"user\", \"content\": prompt},\n",
    "            ]\n",
    "            text = tokenizer.apply_chat_template(messages, tokenize=False, add_generation_prompt=True)\n",
    "            return text\n",
    "        \n",
    "        def parse_svg_from_response(response):\n",
    "            matchs = re.findall(r'<svg.*?</svg>', response, re.S)\n",
    "            if matchs:\n",
    "                return matchs[-1].strip()\n",
    "            else:\n",
    "                return ''\n",
    "        \n",
    "        def check_svg_valid(svg):\n",
    "            try:\n",
    "                cairosvg.svg2png(bytestring=svg.encode('utf-8'))\n",
    "                return True\n",
    "            except:\n",
    "                return False\n",
    "        \n",
    "        def generate_svg():\n",
    "            try:\n",
    "                prompt = self.prompt_template.format(description)\n",
    "                inputs = [apply_template(prompt, self.tokenizer)] * num_attempt\n",
    "                responses = self.llm.generate(inputs, self.sampling_params, use_tqdm=False)\n",
    "                responses = [x.outputs[0].text for x in responses]\n",
    "                svgs = [parse_svg_from_response(x) for x in responses]\n",
    "                # use the first valid svg\n",
    "                choosen_svg = None\n",
    "                for svg in svgs:\n",
    "                    if check_svg_valid(svg):\n",
    "                        svg = self.enforce_constraints(svg)\n",
    "                        if check_svg_valid(svg):\n",
    "                            choosen_svg = svg\n",
    "                            break\n",
    "                \n",
    "                assert choosen_svg is not None\n",
    "                return svg\n",
    "\n",
    "            except Exception as e:\n",
    "                logging.error('Exception during SVG generation: %s', e)\n",
    "                return self.default_svg\n",
    "        \n",
    "        return generate_svg()\n",
    "\n",
    "        # # Execute SVG generation in a new thread to enforce time constraints\n",
    "        # with concurrent.futures.ThreadPoolExecutor(max_workers=1) as executor:\n",
    "        #     future = executor.submit(generate_svg)\n",
    "        #     try:\n",
    "        #         return future.result(timeout=self.timeout_seconds)\n",
    "        #     except concurrent.futures.TimeoutError:\n",
    "        #         logging.warning(\"Prediction timed out after %s seconds.\", self.timeout_seconds)\n",
    "        #         return self.default_svg\n",
    "        #     except Exception as e:\n",
    "        #         logging.error(f\"An unexpected error occurred: {e}\")\n",
    "        #         return self.default_svg\n",
    "\n",
    "    def enforce_constraints(self, svg_string: str) -> str:\n",
    "        \"\"\"Enforces constraints on an SVG string, removing disallowed elements\n",
    "        and attributes.\n",
    "\n",
    "        Parameters\n",
    "        ----------\n",
    "        svg_string : str\n",
    "            The SVG string to process.\n",
    "\n",
    "        Returns\n",
    "        -------\n",
    "        str\n",
    "            The processed SVG string, or the default SVG if constraints\n",
    "            cannot be satisfied.\n",
    "        \"\"\"\n",
    "        logging.info('Sanitizing SVG...')\n",
    "\n",
    "        try:\n",
    "            parser = etree.XMLParser(remove_blank_text=True, remove_comments=True)\n",
    "            root = etree.fromstring(svg_string, parser=parser)\n",
    "        except etree.ParseError as e:\n",
    "            logging.error('SVG Parse Error: %s. Returning default SVG.', e)\n",
    "            return self.default_svg\n",
    "    \n",
    "        elements_to_remove = []\n",
    "        for element in root.iter():\n",
    "            tag_name = etree.QName(element.tag).localname\n",
    "    \n",
    "            # Remove disallowed elements\n",
    "            if tag_name not in self.constraints.allowed_elements:\n",
    "                elements_to_remove.append(element)\n",
    "                continue  # Skip attribute checks for removed elements\n",
    "    \n",
    "            # Remove disallowed attributes\n",
    "            attrs_to_remove = []\n",
    "            for attr in element.attrib:\n",
    "                attr_name = etree.QName(attr).localname\n",
    "                if (\n",
    "                    attr_name\n",
    "                    not in self.constraints.allowed_elements[tag_name]\n",
    "                    and attr_name\n",
    "                    not in self.constraints.allowed_elements['common']\n",
    "                ):\n",
    "                    attrs_to_remove.append(attr)\n",
    "    \n",
    "            for attr in attrs_to_remove:\n",
    "                logging.debug(\n",
    "                    'Attribute \"%s\" for element \"%s\" not allowed. Removing.',\n",
    "                    attr,\n",
    "                    tag_name,\n",
    "                )\n",
    "                del element.attrib[attr]\n",
    "    \n",
    "            # Check and remove invalid href attributes\n",
    "            for attr, value in element.attrib.items():\n",
    "                 if etree.QName(attr).localname == 'href' and not value.startswith('#'):\n",
    "                    logging.debug(\n",
    "                        'Removing invalid href attribute in element \"%s\".', tag_name\n",
    "                    )\n",
    "                    del element.attrib[attr]\n",
    "\n",
    "            # Validate path elements to help ensure SVG conversion\n",
    "            if tag_name == 'path':\n",
    "                d_attribute = element.get('d')\n",
    "                if not d_attribute:\n",
    "                    logging.warning('Path element is missing \"d\" attribute. Removing path.')\n",
    "                    elements_to_remove.append(element)\n",
    "                    continue # Skip further checks for this removed element\n",
    "                # Use regex to validate 'd' attribute format\n",
    "                path_regex = re2.compile(\n",
    "                    r'^'  # Start of string\n",
    "                    r'(?:'  # Non-capturing group for each command + numbers block\n",
    "                    r'[MmZzLlHhVvCcSsQqTtAa]'  # Valid SVG path commands (adjusted to exclude extra letters)\n",
    "                    r'\\s*'  # Optional whitespace after command\n",
    "                    r'(?:'  # Non-capturing group for optional numbers\n",
    "                    r'-?\\d+(?:\\.\\d+)?(?:[Ee][+-]?\\d+)?'  # First number\n",
    "                    r'(?:[\\s,]+-?\\d+(?:\\.\\d+)?(?:[Ee][+-]?\\d+)?)*'  # Subsequent numbers with mandatory separator(s)\n",
    "                    r')?'  # Numbers are optional (e.g. for Z command)\n",
    "                    r'\\s*'  # Optional whitespace after numbers/command block\n",
    "                    r')+'  # One or more command blocks\n",
    "                    r'\\s*'  # Optional trailing whitespace\n",
    "                    r'$'  # End of string\n",
    "                )\n",
    "                if not path_regex.match(d_attribute):\n",
    "                    logging.warning(\n",
    "                        'Path element has malformed \"d\" attribute format. Removing path.'\n",
    "                    )\n",
    "                    elements_to_remove.append(element)\n",
    "                    continue\n",
    "                logging.debug('Path element \"d\" attribute validated (regex check).')\n",
    "        \n",
    "        # Remove elements marked for removal\n",
    "        for element in elements_to_remove:\n",
    "            if element.getparent() is not None:\n",
    "                element.getparent().remove(element)\n",
    "                logging.debug('Removed element: %s', element.tag)\n",
    "\n",
    "        try:\n",
    "            cleaned_svg_string = etree.tostring(root, encoding='unicode')\n",
    "            return cleaned_svg_string\n",
    "        except ValueError as e:\n",
    "            logging.error(\n",
    "                'SVG could not be sanitized to meet constraints: %s', e\n",
    "            )\n",
    "            return self.default_svg"
   ]
  },
  {
   "cell_type": "code",
   "execution_count": 4,
   "id": "61b38354",
   "metadata": {
    "execution": {
     "iopub.execute_input": "2025-03-29T22:05:44.832776Z",
     "iopub.status.busy": "2025-03-29T22:05:44.832468Z",
     "iopub.status.idle": "2025-03-29T22:10:13.824535Z",
     "shell.execute_reply": "2025-03-29T22:10:13.823447Z"
    },
    "papermill": {
     "duration": 268.997933,
     "end_time": "2025-03-29T22:10:13.826389",
     "exception": false,
     "start_time": "2025-03-29T22:05:44.828456",
     "status": "completed"
    },
    "tags": []
   },
   "outputs": [
    {
     "name": "stdout",
     "output_type": "stream",
     "text": [
      "INFO 03-29 22:05:57 [config.py:585] This model supports multiple tasks: {'generate', 'classify', 'reward', 'embed', 'score'}. Defaulting to 'generate'.\n",
      "WARNING 03-29 22:05:59 [config.py:664] awq quantization is not fully optimized yet. The speed can be slower than non-quantized models.\n",
      "WARNING 03-29 22:05:59 [arg_utils.py:1854] Compute Capability < 8.0 is not supported by the V1 Engine. Falling back to V0. \n",
      "INFO 03-29 22:05:59 [config.py:1519] Defaulting to use mp for distributed inference\n",
      "WARNING 03-29 22:05:59 [cuda.py:95] To see benefits of async output processing, enable CUDA graph. Since, enforce-eager is enabled, async output processor cannot be used\n",
      "INFO 03-29 22:05:59 [llm_engine.py:241] Initializing a V0 LLM engine (v0.8.2) with config: model='/kaggle/input/qwen2.5/transformers/32b-instruct-awq/1', speculative_config=None, tokenizer='/kaggle/input/qwen2.5/transformers/32b-instruct-awq/1', skip_tokenizer_init=False, tokenizer_mode=auto, revision=None, override_neuron_config=None, tokenizer_revision=None, trust_remote_code=True, dtype=torch.float16, max_seq_len=5120, download_dir=None, load_format=auto, tensor_parallel_size=2, pipeline_parallel_size=1, disable_custom_all_reduce=False, quantization=awq, enforce_eager=True, kv_cache_dtype=auto,  device_config=cuda, decoding_config=DecodingConfig(guided_decoding_backend='xgrammar', reasoning_backend=None), observability_config=ObservabilityConfig(show_hidden_metrics=False, otlp_traces_endpoint=None, collect_model_forward_time=False, collect_model_execute_time=False), seed=None, served_model_name=/kaggle/input/qwen2.5/transformers/32b-instruct-awq/1, num_scheduler_steps=1, multi_step_stream_outputs=True, enable_prefix_caching=None, chunked_prefill_enabled=False, use_async_output_proc=False, disable_mm_preprocessor_cache=False, mm_processor_kwargs=None, pooler_config=None, compilation_config={\"splitting_ops\":[],\"compile_sizes\":[],\"cudagraph_capture_sizes\":[],\"max_capture_size\":0}, use_cached_outputs=False, \n",
      "WARNING 03-29 22:05:59 [multiproc_worker_utils.py:306] Reducing Torch parallelism from 2 threads to 1 to avoid unnecessary CPU contention. Set OMP_NUM_THREADS in the external environment to tune this value as needed.\n",
      "\u001b[1;36m(VllmWorkerProcess pid=83)\u001b[0;0m INFO 03-29 22:06:00 [multiproc_worker_utils.py:225] Worker ready; awaiting tasks\n",
      "INFO 03-29 22:06:00 [cuda.py:239] Cannot use FlashAttention-2 backend for Volta and Turing GPUs.\n",
      "INFO 03-29 22:06:00 [cuda.py:288] Using XFormers backend.\n",
      "\u001b[1;36m(VllmWorkerProcess pid=83)\u001b[0;0m INFO 03-29 22:06:00 [cuda.py:239] Cannot use FlashAttention-2 backend for Volta and Turing GPUs.\n",
      "\u001b[1;36m(VllmWorkerProcess pid=83)\u001b[0;0m INFO 03-29 22:06:00 [cuda.py:288] Using XFormers backend.\n",
      "INFO 03-29 22:06:31 [utils.py:931] Found nccl from library libnccl.so.2\n",
      "INFO 03-29 22:06:31 [pynccl.py:69] vLLM is using nccl==2.21.5\n",
      "\u001b[1;36m(VllmWorkerProcess pid=83)\u001b[0;0m INFO 03-29 22:06:31 [utils.py:931] Found nccl from library libnccl.so.2\n",
      "\u001b[1;36m(VllmWorkerProcess pid=83)\u001b[0;0m INFO 03-29 22:06:31 [pynccl.py:69] vLLM is using nccl==2.21.5\n",
      "INFO 03-29 22:06:31 [custom_all_reduce_utils.py:206] generating GPU P2P access cache in /root/.cache/vllm/gpu_p2p_access_cache_for_0,1.json\n",
      "INFO 03-29 22:06:53 [custom_all_reduce_utils.py:244] reading GPU P2P access cache from /root/.cache/vllm/gpu_p2p_access_cache_for_0,1.json\n",
      "WARNING 03-29 22:06:53 [custom_all_reduce.py:146] Custom allreduce is disabled because your platform lacks GPU P2P capability or P2P test failed. To silence this warning, specify disable_custom_all_reduce=True explicitly.\n",
      "\u001b[1;36m(VllmWorkerProcess pid=83)\u001b[0;0m INFO 03-29 22:06:53 [custom_all_reduce_utils.py:244] reading GPU P2P access cache from /root/.cache/vllm/gpu_p2p_access_cache_for_0,1.json\n",
      "\u001b[1;36m(VllmWorkerProcess pid=83)\u001b[0;0m WARNING 03-29 22:06:53 [custom_all_reduce.py:146] Custom allreduce is disabled because your platform lacks GPU P2P capability or P2P test failed. To silence this warning, specify disable_custom_all_reduce=True explicitly.\n",
      "INFO 03-29 22:06:53 [shm_broadcast.py:259] vLLM message queue communication handle: Handle(local_reader_ranks=[1], buffer_handle=(1, 4194304, 6, 'psm_3136182e'), local_subscribe_addr='ipc:///tmp/5c53ff3e-9b0f-467a-98ea-0d93971e4823', remote_subscribe_addr=None, remote_addr_ipv6=False)\n",
      "INFO 03-29 22:06:53 [parallel_state.py:954] rank 0 in world size 2 is assigned as DP rank 0, PP rank 0, TP rank 0\n",
      "\u001b[1;36m(VllmWorkerProcess pid=83)\u001b[0;0m INFO 03-29 22:06:53 [parallel_state.py:954] rank 1 in world size 2 is assigned as DP rank 0, PP rank 0, TP rank 1\n",
      "INFO 03-29 22:06:53 [model_runner.py:1110] Starting to load model /kaggle/input/qwen2.5/transformers/32b-instruct-awq/1...\n",
      "\u001b[1;36m(VllmWorkerProcess pid=83)\u001b[0;0m INFO 03-29 22:06:53 [model_runner.py:1110] Starting to load model /kaggle/input/qwen2.5/transformers/32b-instruct-awq/1...\n"
     ]
    },
    {
     "data": {
      "application/vnd.jupyter.widget-view+json": {
       "model_id": "22ada46873c442fea361b401a7cf4149",
       "version_major": 2,
       "version_minor": 0
      },
      "text/plain": [
       "Loading safetensors checkpoint shards:   0% Completed | 0/5 [00:00<?, ?it/s]\n"
      ]
     },
     "metadata": {},
     "output_type": "display_data"
    },
    {
     "name": "stdout",
     "output_type": "stream",
     "text": [
      "\u001b[1;36m(VllmWorkerProcess pid=83)\u001b[0;0m INFO 03-29 22:09:51 [loader.py:447] Loading weights took 177.58 seconds\n",
      "INFO 03-29 22:09:51 [loader.py:447] Loading weights took 177.84 seconds\n",
      "\u001b[1;36m(VllmWorkerProcess pid=83)\u001b[0;0m INFO 03-29 22:09:52 [model_runner.py:1146] Model loading took 9.0935 GB and 177.869765 seconds\n",
      "INFO 03-29 22:09:52 [model_runner.py:1146] Model loading took 9.0935 GB and 178.135821 seconds\n",
      "\u001b[1;36m(VllmWorkerProcess pid=83)\u001b[0;0m INFO 03-29 22:10:09 [worker.py:267] Memory profiling takes 16.30 seconds\r\n",
      "\u001b[1;36m(VllmWorkerProcess pid=83)\u001b[0;0m INFO 03-29 22:10:09 [worker.py:267] the current vLLM instance can use total_gpu_memory (14.74GiB) x gpu_memory_utilization (0.95) = 14.00GiB\r\n",
      "\u001b[1;36m(VllmWorkerProcess pid=83)\u001b[0;0m INFO 03-29 22:10:09 [worker.py:267] model weights take 9.09GiB; non_torch_memory takes 0.10GiB; PyTorch activation peak memory takes 0.73GiB; the rest of the memory reserved for KV Cache is 4.08GiB.\n",
      "INFO 03-29 22:10:09 [worker.py:267] Memory profiling takes 16.43 seconds\r\n",
      "INFO 03-29 22:10:09 [worker.py:267] the current vLLM instance can use total_gpu_memory (14.74GiB) x gpu_memory_utilization (0.95) = 14.00GiB\r\n",
      "INFO 03-29 22:10:09 [worker.py:267] model weights take 9.09GiB; non_torch_memory takes 0.10GiB; PyTorch activation peak memory takes 1.44GiB; the rest of the memory reserved for KV Cache is 3.37GiB.\n",
      "INFO 03-29 22:10:09 [executor_base.py:111] # cuda blocks: 1725, # CPU blocks: 2048\n",
      "INFO 03-29 22:10:09 [executor_base.py:116] Maximum concurrency for 5120 tokens per request: 5.39x\n",
      "INFO 03-29 22:10:13 [llm_engine.py:447] init engine (profile, create kv cache, warmup model) took 21.43 seconds\n"
     ]
    }
   ],
   "source": [
    "model = Model()"
   ]
  },
  {
   "cell_type": "markdown",
   "id": "44a45294",
   "metadata": {
    "papermill": {
     "duration": 0.006232,
     "end_time": "2025-03-29T22:10:13.839520",
     "exception": false,
     "start_time": "2025-03-29T22:10:13.833288",
     "status": "completed"
    },
    "tags": []
   },
   "source": [
    "## Generate on training data"
   ]
  },
  {
   "cell_type": "code",
   "execution_count": 5,
   "id": "141ae183",
   "metadata": {
    "execution": {
     "iopub.execute_input": "2025-03-29T22:10:13.853165Z",
     "iopub.status.busy": "2025-03-29T22:10:13.852846Z",
     "iopub.status.idle": "2025-03-29T22:10:13.857658Z",
     "shell.execute_reply": "2025-03-29T22:10:13.856850Z"
    },
    "papermill": {
     "duration": 0.013567,
     "end_time": "2025-03-29T22:10:13.859247",
     "exception": false,
     "start_time": "2025-03-29T22:10:13.845680",
     "status": "completed"
    },
    "tags": []
   },
   "outputs": [],
   "source": [
    "from IPython.display import SVG, display\n",
    "import pandas as pd\n",
    "from tqdm.auto import tqdm\n",
    "tqdm.pandas()"
   ]
  },
  {
   "cell_type": "code",
   "execution_count": 6,
   "id": "be3e08cf",
   "metadata": {
    "execution": {
     "iopub.execute_input": "2025-03-29T22:10:13.882138Z",
     "iopub.status.busy": "2025-03-29T22:10:13.881867Z",
     "iopub.status.idle": "2025-03-29T22:10:14.175171Z",
     "shell.execute_reply": "2025-03-29T22:10:14.174319Z"
    },
    "papermill": {
     "duration": 0.305356,
     "end_time": "2025-03-29T22:10:14.176952",
     "exception": false,
     "start_time": "2025-03-29T22:10:13.871596",
     "status": "completed"
    },
    "tags": []
   },
   "outputs": [],
   "source": [
    "drawing_with_llms_path = kagglehub.competition_download('drawing-with-llms')\n",
    "train_df = pd.read_csv(f'{drawing_with_llms_path}/train.csv')"
   ]
  },
  {
   "cell_type": "code",
   "execution_count": 7,
   "id": "b3bd5939",
   "metadata": {
    "execution": {
     "iopub.execute_input": "2025-03-29T22:10:14.193586Z",
     "iopub.status.busy": "2025-03-29T22:10:14.193334Z",
     "iopub.status.idle": "2025-03-29T22:10:14.219837Z",
     "shell.execute_reply": "2025-03-29T22:10:14.218623Z"
    },
    "papermill": {
     "duration": 0.036092,
     "end_time": "2025-03-29T22:10:14.221415",
     "exception": false,
     "start_time": "2025-03-29T22:10:14.185323",
     "status": "completed"
    },
    "tags": []
   },
   "outputs": [
    {
     "data": {
      "text/html": [
       "<div>\n",
       "<style scoped>\n",
       "    .dataframe tbody tr th:only-of-type {\n",
       "        vertical-align: middle;\n",
       "    }\n",
       "\n",
       "    .dataframe tbody tr th {\n",
       "        vertical-align: top;\n",
       "    }\n",
       "\n",
       "    .dataframe thead th {\n",
       "        text-align: right;\n",
       "    }\n",
       "</style>\n",
       "<table border=\"1\" class=\"dataframe\">\n",
       "  <thead>\n",
       "    <tr style=\"text-align: right;\">\n",
       "      <th></th>\n",
       "      <th>id</th>\n",
       "      <th>description</th>\n",
       "    </tr>\n",
       "  </thead>\n",
       "  <tbody>\n",
       "    <tr>\n",
       "      <th>0</th>\n",
       "      <td>02d892</td>\n",
       "      <td>a purple forest at dusk</td>\n",
       "    </tr>\n",
       "    <tr>\n",
       "      <th>1</th>\n",
       "      <td>0dcd2e</td>\n",
       "      <td>gray wool coat with a faux fur collar</td>\n",
       "    </tr>\n",
       "    <tr>\n",
       "      <th>2</th>\n",
       "      <td>1e9ac1</td>\n",
       "      <td>a lighthouse overlooking the ocean</td>\n",
       "    </tr>\n",
       "    <tr>\n",
       "      <th>3</th>\n",
       "      <td>2b25db</td>\n",
       "      <td>burgundy corduroy pants with patch pockets and...</td>\n",
       "    </tr>\n",
       "    <tr>\n",
       "      <th>4</th>\n",
       "      <td>4e6a54</td>\n",
       "      <td>orange corduroy overalls</td>\n",
       "    </tr>\n",
       "  </tbody>\n",
       "</table>\n",
       "</div>"
      ],
      "text/plain": [
       "       id                                        description\n",
       "0  02d892                            a purple forest at dusk\n",
       "1  0dcd2e              gray wool coat with a faux fur collar\n",
       "2  1e9ac1                 a lighthouse overlooking the ocean\n",
       "3  2b25db  burgundy corduroy pants with patch pockets and...\n",
       "4  4e6a54                           orange corduroy overalls"
      ]
     },
     "execution_count": 7,
     "metadata": {},
     "output_type": "execute_result"
    }
   ],
   "source": [
    "train_df.head()"
   ]
  },
  {
   "cell_type": "code",
   "execution_count": 8,
   "id": "83b12813",
   "metadata": {
    "execution": {
     "iopub.execute_input": "2025-03-29T22:10:14.235693Z",
     "iopub.status.busy": "2025-03-29T22:10:14.235470Z",
     "iopub.status.idle": "2025-03-29T22:10:14.240598Z",
     "shell.execute_reply": "2025-03-29T22:10:14.239811Z"
    },
    "papermill": {
     "duration": 0.013479,
     "end_time": "2025-03-29T22:10:14.241945",
     "exception": false,
     "start_time": "2025-03-29T22:10:14.228466",
     "status": "completed"
    },
    "tags": []
   },
   "outputs": [
    {
     "data": {
      "text/plain": [
       "'a lighthouse overlooking the ocean'"
      ]
     },
     "execution_count": 8,
     "metadata": {},
     "output_type": "execute_result"
    }
   ],
   "source": [
    "r = train_df.iloc[2]\n",
    "r.description"
   ]
  },
  {
   "cell_type": "code",
   "execution_count": 9,
   "id": "9715429c",
   "metadata": {
    "execution": {
     "iopub.execute_input": "2025-03-29T22:10:14.255907Z",
     "iopub.status.busy": "2025-03-29T22:10:14.255691Z",
     "iopub.status.idle": "2025-03-29T22:10:55.951663Z",
     "shell.execute_reply": "2025-03-29T22:10:55.950745Z"
    },
    "papermill": {
     "duration": 41.71227,
     "end_time": "2025-03-29T22:10:55.960670",
     "exception": false,
     "start_time": "2025-03-29T22:10:14.248400",
     "status": "completed"
    },
    "tags": []
   },
   "outputs": [
    {
     "name": "stdout",
     "output_type": "stream",
     "text": [
      "CPU times: user 38.5 s, sys: 2.53 s, total: 41 s\n",
      "Wall time: 41.7 s\n"
     ]
    }
   ],
   "source": [
    "%%time\n",
    "svg = model.predict(r.description)"
   ]
  },
  {
   "cell_type": "code",
   "execution_count": 10,
   "id": "71c5bd0a",
   "metadata": {
    "execution": {
     "iopub.execute_input": "2025-03-29T22:10:55.975689Z",
     "iopub.status.busy": "2025-03-29T22:10:55.975425Z",
     "iopub.status.idle": "2025-03-29T22:10:55.979585Z",
     "shell.execute_reply": "2025-03-29T22:10:55.978618Z"
    },
    "papermill": {
     "duration": 0.013128,
     "end_time": "2025-03-29T22:10:55.980857",
     "exception": false,
     "start_time": "2025-03-29T22:10:55.967729",
     "status": "completed"
    },
    "tags": []
   },
   "outputs": [
    {
     "name": "stdout",
     "output_type": "stream",
     "text": [
      "<svg viewBox=\"0 0 256 256\" width=\"256\" height=\"256\"><rect x=\"0\" y=\"128\" width=\"256\" height=\"128\" fill=\"#5881AC\"/><rect x=\"48\" y=\"64\" width=\"160\" height=\"64\" fill=\"#D3D3D3\"/><rect x=\"80\" y=\"32\" width=\"96\" height=\"32\" fill=\"#FFFFFF\"/><circle cx=\"128\" cy=\"32\" r=\"16\" fill=\"#FFDF00\"/><rect x=\"104\" y=\"0\" width=\"48\" height=\"32\" fill=\"#444444\"/></svg>\n"
     ]
    }
   ],
   "source": [
    "print(svg)"
   ]
  },
  {
   "cell_type": "code",
   "execution_count": 11,
   "id": "65807990",
   "metadata": {
    "execution": {
     "iopub.execute_input": "2025-03-29T22:10:55.996618Z",
     "iopub.status.busy": "2025-03-29T22:10:55.996353Z",
     "iopub.status.idle": "2025-03-29T22:27:38.627184Z",
     "shell.execute_reply": "2025-03-29T22:27:38.626281Z"
    },
    "papermill": {
     "duration": 1002.646952,
     "end_time": "2025-03-29T22:27:38.635171",
     "exception": false,
     "start_time": "2025-03-29T22:10:55.988219",
     "status": "completed"
    },
    "tags": []
   },
   "outputs": [
    {
     "data": {
      "application/vnd.jupyter.widget-view+json": {
       "model_id": "5bc96b53facf453eb81fa842226ff575",
       "version_major": 2,
       "version_minor": 0
      },
      "text/plain": [
       "  0%|          | 0/15 [00:00<?, ?it/s]"
      ]
     },
     "metadata": {},
     "output_type": "display_data"
    }
   ],
   "source": [
    "train_df['svg'] = train_df.description.progress_apply(model.predict)"
   ]
  },
  {
   "cell_type": "code",
   "execution_count": 12,
   "id": "b4b9f114",
   "metadata": {
    "execution": {
     "iopub.execute_input": "2025-03-29T22:27:38.649589Z",
     "iopub.status.busy": "2025-03-29T22:27:38.649360Z",
     "iopub.status.idle": "2025-03-29T22:27:38.659590Z",
     "shell.execute_reply": "2025-03-29T22:27:38.658775Z"
    },
    "papermill": {
     "duration": 0.018908,
     "end_time": "2025-03-29T22:27:38.660737",
     "exception": false,
     "start_time": "2025-03-29T22:27:38.641829",
     "status": "completed"
    },
    "tags": []
   },
   "outputs": [],
   "source": [
    "train_df.to_json('train_svg.jsonl', orient='records', lines=True, force_ascii=False)"
   ]
  },
  {
   "cell_type": "markdown",
   "id": "d4b4405f",
   "metadata": {
    "papermill": {
     "duration": 0.006271,
     "end_time": "2025-03-29T22:27:38.673635",
     "exception": false,
     "start_time": "2025-03-29T22:27:38.667364",
     "status": "completed"
    },
    "tags": []
   },
   "source": [
    "## Display"
   ]
  },
  {
   "cell_type": "code",
   "execution_count": 13,
   "id": "79550605",
   "metadata": {
    "execution": {
     "iopub.execute_input": "2025-03-29T22:27:38.687563Z",
     "iopub.status.busy": "2025-03-29T22:27:38.687304Z",
     "iopub.status.idle": "2025-03-29T22:27:38.691837Z",
     "shell.execute_reply": "2025-03-29T22:27:38.691188Z"
    },
    "papermill": {
     "duration": 0.01301,
     "end_time": "2025-03-29T22:27:38.693241",
     "exception": false,
     "start_time": "2025-03-29T22:27:38.680231",
     "status": "completed"
    },
    "tags": []
   },
   "outputs": [],
   "source": [
    "import matplotlib.pyplot as plt\n",
    "%matplotlib inline"
   ]
  },
  {
   "cell_type": "code",
   "execution_count": 14,
   "id": "af38b149",
   "metadata": {
    "execution": {
     "iopub.execute_input": "2025-03-29T22:27:38.707526Z",
     "iopub.status.busy": "2025-03-29T22:27:38.707317Z",
     "iopub.status.idle": "2025-03-29T22:27:38.711488Z",
     "shell.execute_reply": "2025-03-29T22:27:38.710892Z"
    },
    "papermill": {
     "duration": 0.012634,
     "end_time": "2025-03-29T22:27:38.712600",
     "exception": false,
     "start_time": "2025-03-29T22:27:38.699966",
     "status": "completed"
    },
    "tags": []
   },
   "outputs": [],
   "source": [
    "from PIL import Image\n",
    "import cairosvg\n",
    "\n",
    "def svg_to_png(svg_code: str, size: tuple = (384, 384)) -> Image.Image:\n",
    "    \"\"\"\n",
    "    Converts an SVG string to a PNG image using CairoSVG.\n",
    "\n",
    "    If the SVG does not define a `viewBox`, it will add one using the provided size.\n",
    "\n",
    "    Parameters\n",
    "    ----------\n",
    "    svg_code : str\n",
    "        The SVG string to convert.\n",
    "    size : tuple[int, int], default=(384, 384)\n",
    "        The desired size of the output PNG image (width, height).\n",
    "\n",
    "    Returns\n",
    "    -------\n",
    "    PIL.Image.Image\n",
    "        The generated PNG image.\n",
    "    \"\"\"\n",
    "    # Ensure SVG has proper size attributes\n",
    "    if 'viewBox' not in svg_code:\n",
    "        svg_code = svg_code.replace('<svg', f'<svg viewBox=\"0 0 {size[0]} {size[1]}\"')\n",
    "\n",
    "    # Convert SVG to PNG\n",
    "    png_data = cairosvg.svg2png(bytestring=svg_code.encode('utf-8'))\n",
    "    return Image.open(io.BytesIO(png_data)).convert('RGB').resize(size)"
   ]
  },
  {
   "cell_type": "code",
   "execution_count": 15,
   "id": "a87f2772",
   "metadata": {
    "execution": {
     "iopub.execute_input": "2025-03-29T22:27:38.726420Z",
     "iopub.status.busy": "2025-03-29T22:27:38.726187Z",
     "iopub.status.idle": "2025-03-29T22:27:40.894158Z",
     "shell.execute_reply": "2025-03-29T22:27:40.893179Z"
    },
    "papermill": {
     "duration": 2.177097,
     "end_time": "2025-03-29T22:27:40.896366",
     "exception": false,
     "start_time": "2025-03-29T22:27:38.719269",
     "status": "completed"
    },
    "tags": []
   },
   "outputs": [
    {
     "data": {
      "image/png": "[encoded data removed]",
      "text/plain": [
       "<Figure size 1200x2000 with 15 Axes>"
      ]
     },
     "metadata": {},
     "output_type": "display_data"
    }
   ],
   "source": [
    "plt.figure(figsize=(12, 20))\n",
    "for i, r in enumerate(train_df.itertuples(), 1):\n",
    "    plt.subplot(5, 3, i)\n",
    "    img = svg_to_png(r.svg)\n",
    "    plt.imshow(img)\n",
    "    plt.axis('off')\n",
    "    plt.title(r.description, fontdict={'fontsize': 8})"
   ]
  },
  {
   "cell_type": "code",
   "execution_count": null,
   "id": "797c3b93",
   "metadata": {
    "papermill": {
     "duration": 0.008726,
     "end_time": "2025-03-29T22:27:40.914499",
     "exception": false,
     "start_time": "2025-03-29T22:27:40.905773",
     "status": "completed"
    },
    "tags": []
   },
   "outputs": [],
   "source": []
  }
 ],
 "metadata": {
  "kaggle": {
   "accelerator": "nvidiaTeslaT4",
   "dataSources": [
    {
     "databundleVersionId": 11522106,
     "sourceId": 89659,
     "sourceType": "competition"
    },
    {
     "sourceId": 224423433,
     "sourceType": "kernelVersion"
    },
    {
     "modelId": 164048,
     "modelInstanceId": 141565,
     "sourceId": 166368,
     "sourceType": "modelInstanceVersion"
    }
   ],
   "dockerImageVersionId": 30919,
   "isGpuEnabled": true,
   "isInternetEnabled": true,
   "language": "python",
   "sourceType": "notebook"
  },
  "kernelspec": {
   "display_name": "Python 3",
   "language": "python",
   "name": "python3"
  },
  "language_info": {
   "codemirror_mode": {
    "name": "ipython",
    "version": 3
   },
   "file_extension": ".py",
   "mimetype": "text/x-python",
   "name": "python",
   "nbconvert_exporter": "python",
   "pygments_lexer": "ipython3",
   "version": "3.10.12"
  },
  "papermill": {
   "default_parameters": {},
   "duration": 1354.280277,
   "end_time": "2025-03-29T22:27:45.241764",
   "environment_variables": {},
   "exception": null,
   "input_path": "__notebook__.ipynb",
   "output_path": "__notebook__.ipynb",
   "parameters": {},
   "start_time": "2025-03-29T22:05:10.961487",
   "version": "2.6.0"
  },
  "widgets": {
   "application/vnd.jupyter.widget-state+json": {
    "state": {
     "03ed8aa4b1214889adc776c31be6f9a0": {
      "model_module": "@jupyter-widgets/controls",
      "model_module_version": "2.0.0",
      "model_name": "HTMLStyleModel",
      "state": {
       "_model_module": "@jupyter-widgets/controls",
       "_model_module_version": "2.0.0",
       "_model_name": "HTMLStyleModel",
       "_view_count": null,
       "_view_module": "@jupyter-widgets/base",
       "_view_module_version": "2.0.0",
       "_view_name": "StyleView",
       "background": null,
       "description_width": "",
       "font_size": null,
       "text_color": null
      }
     },
     "0ab62a7377184f989c7bcc5e73c6d2a3": {
      "model_module": "@jupyter-widgets/base",
      "model_module_version": "2.0.0",
      "model_name": "LayoutModel",
      "state": {
       "_model_module": "@jupyter-widgets/base",
       "_model_module_version": "2.0.0",
       "_model_name": "LayoutModel",
       "_view_count": null,
       "_view_module": "@jupyter-widgets/base",
       "_view_module_version": "2.0.0",
       "_view_name": "LayoutView",
       "align_content": null,
       "align_items": null,
       "align_self": null,
       "border_bottom": null,
       "border_left": null,
       "border_right": null,
       "border_top": null,
       "bottom": null,
       "display": null,
       "flex": null,
       "flex_flow": null,
       "grid_area": null,
       "grid_auto_columns": null,
       "grid_auto_flow": null,
       "grid_auto_rows": null,
       "grid_column": null,
       "grid_gap": null,
       "grid_row": null,
       "grid_template_areas": null,
       "grid_template_columns": null,
       "grid_template_rows": null,
       "height": null,
       "justify_content": null,
       "justify_items": null,
       "left": null,
       "margin": null,
       "max_height": null,
       "max_width": null,
       "min_height": null,
       "min_width": null,
       "object_fit": null,
       "object_position": null,
       "order": null,
       "overflow": null,
       "padding": null,
       "right": null,
       "top": null,
       "visibility": null,
       "width": null
      }
     },
     "0e054b62b1c84f0fb964f3df920f4627": {
      "model_module": "@jupyter-widgets/base",
      "model_module_version": "2.0.0",
      "model_name": "LayoutModel",
      "state": {
       "_model_module": "@jupyter-widgets/base",
       "_model_module_version": "2.0.0",
       "_model_name": "LayoutModel",
       "_view_count": null,
       "_view_module": "@jupyter-widgets/base",
       "_view_module_version": "2.0.0",
       "_view_name": "LayoutView",
       "align_content": null,
       "align_items": null,
       "align_self": null,
       "border_bottom": null,
       "border_left": null,
       "border_right": null,
       "border_top": null,
       "bottom": null,
       "display": null,
       "flex": null,
       "flex_flow": null,
       "grid_area": null,
       "grid_auto_columns": null,
       "grid_auto_flow": null,
       "grid_auto_rows": null,
       "grid_column": null,
       "grid_gap": null,
       "grid_row": null,
       "grid_template_areas": null,
       "grid_template_columns": null,
       "grid_template_rows": null,
       "height": null,
       "justify_content": null,
       "justify_items": null,
       "left": null,
       "margin": null,
       "max_height": null,
       "max_width": null,
       "min_height": null,
       "min_width": null,
       "object_fit": null,
       "object_position": null,
       "order": null,
       "overflow": null,
       "padding": null,
       "right": null,
       "top": null,
       "visibility": null,
       "width": null
      }
     },
     "22ada46873c442fea361b401a7cf4149": {
      "model_module": "@jupyter-widgets/controls",
      "model_module_version": "2.0.0",
      "model_name": "HBoxModel",
      "state": {
       "_dom_classes": [],
       "_model_module": "@jupyter-widgets/controls",
       "_model_module_version": "2.0.0",
       "_model_name": "HBoxModel",
       "_view_count": null,
       "_view_module": "@jupyter-widgets/controls",
       "_view_module_version": "2.0.0",
       "_view_name": "HBoxView",
       "box_style": "",
       "children": [
        "IPY_MODEL_f5cbbe4f402f40d5a2268328859a2236",
        "IPY_MODEL_f5e153d9c1b94e9796e6dbcd6338d379",
        "IPY_MODEL_aeb7390ef86d4d8e8bab51783424d0df"
       ],
       "layout": "IPY_MODEL_0ab62a7377184f989c7bcc5e73c6d2a3",
       "tabbable": null,
       "tooltip": null
      }
     },
     "4f089ed80cd241aaa4400cfa397fa6bc": {
      "model_module": "@jupyter-widgets/controls",
      "model_module_version": "2.0.0",
      "model_name": "FloatProgressModel",
      "state": {
       "_dom_classes": [],
       "_model_module": "@jupyter-widgets/controls",
       "_model_module_version": "2.0.0",
       "_model_name": "FloatProgressModel",
       "_view_count": null,
       "_view_module": "@jupyter-widgets/controls",
       "_view_module_version": "2.0.0",
       "_view_name": "ProgressView",
       "bar_style": "success",
       "description": "",
       "description_allow_html": false,
       "layout": "IPY_MODEL_c8f37f30594d4d9888ec34646e92ccca",
       "max": 15.0,
       "min": 0.0,
       "orientation": "horizontal",
       "style": "IPY_MODEL_4f92dc65b60641fc8e5e2938ec8d6a3f",
       "tabbable": null,
       "tooltip": null,
       "value": 15.0
      }
     },
     "4f92dc65b60641fc8e5e2938ec8d6a3f": {
      "model_module": "@jupyter-widgets/controls",
      "model_module_version": "2.0.0",
      "model_name": "ProgressStyleModel",
      "state": {
       "_model_module": "@jupyter-widgets/controls",
       "_model_module_version": "2.0.0",
       "_model_name": "ProgressStyleModel",
       "_view_count": null,
       "_view_module": "@jupyter-widgets/base",
       "_view_module_version": "2.0.0",
       "_view_name": "StyleView",
       "bar_color": null,
       "description_width": ""
      }
     },
     "5327270003c846e19d07d08828e38056": {
      "model_module": "@jupyter-widgets/base",
      "model_module_version": "2.0.0",
      "model_name": "LayoutModel",
      "state": {
       "_model_module": "@jupyter-widgets/base",
       "_model_module_version": "2.0.0",
       "_model_name": "LayoutModel",
       "_view_count": null,
       "_view_module": "@jupyter-widgets/base",
       "_view_module_version": "2.0.0",
       "_view_name": "LayoutView",
       "align_content": null,
       "align_items": null,
       "align_self": null,
       "border_bottom": null,
       "border_left": null,
       "border_right": null,
       "border_top": null,
       "bottom": null,
       "display": null,
       "flex": null,
       "flex_flow": null,
       "grid_area": null,
       "grid_auto_columns": null,
       "grid_auto_flow": null,
       "grid_auto_rows": null,
       "grid_column": null,
       "grid_gap": null,
       "grid_row": null,
       "grid_template_areas": null,
       "grid_template_columns": null,
       "grid_template_rows": null,
       "height": null,
       "justify_content": null,
       "justify_items": null,
       "left": null,
       "margin": null,
       "max_height": null,
       "max_width": null,
       "min_height": null,
       "min_width": null,
       "object_fit": null,
       "object_position": null,
       "order": null,
       "overflow": null,
       "padding": null,
       "right": null,
       "top": null,
       "visibility": null,
       "width": null
      }
     },
     "53463c03ecbc493da772856eefaa26be": {
      "model_module": "@jupyter-widgets/controls",
      "model_module_version": "2.0.0",
      "model_name": "HTMLStyleModel",
      "state": {
       "_model_module": "@jupyter-widgets/controls",
       "_model_module_version": "2.0.0",
       "_model_name": "HTMLStyleModel",
       "_view_count": null,
       "_view_module": "@jupyter-widgets/base",
       "_view_module_version": "2.0.0",
       "_view_name": "StyleView",
       "background": null,
       "description_width": "",
       "font_size": null,
       "text_color": null
      }
     },
     "5bc96b53facf453eb81fa842226ff575": {
      "model_module": "@jupyter-widgets/controls",
      "model_module_version": "2.0.0",
      "model_name": "HBoxModel",
      "state": {
       "_dom_classes": [],
       "_model_module": "@jupyter-widgets/controls",
       "_model_module_version": "2.0.0",
       "_model_name": "HBoxModel",
       "_view_count": null,
       "_view_module": "@jupyter-widgets/controls",
       "_view_module_version": "2.0.0",
       "_view_name": "HBoxView",
       "box_style": "",
       "children": [
        "IPY_MODEL_dc2c68fac5814bba9712605db025c71b",
        "IPY_MODEL_4f089ed80cd241aaa4400cfa397fa6bc",
        "IPY_MODEL_8e73374205b6422b8d58a46dd91e5117"
       ],
       "layout": "IPY_MODEL_5327270003c846e19d07d08828e38056",
       "tabbable": null,
       "tooltip": null
      }
     },
     "63df543ca7ed4270b3351873d27c5061": {
      "model_module": "@jupyter-widgets/controls",
      "model_module_version": "2.0.0",
      "model_name": "HTMLStyleModel",
      "state": {
       "_model_module": "@jupyter-widgets/controls",
       "_model_module_version": "2.0.0",
       "_model_name": "HTMLStyleModel",
       "_view_count": null,
       "_view_module": "@jupyter-widgets/base",
       "_view_module_version": "2.0.0",
       "_view_name": "StyleView",
       "background": null,
       "description_width": "",
       "font_size": null,
       "text_color": null
      }
     },
     "6753b18ad85f434f9fd892d48d83b369": {
      "model_module": "@jupyter-widgets/controls",
      "model_module_version": "2.0.0",
      "model_name": "ProgressStyleModel",
      "state": {
       "_model_module": "@jupyter-widgets/controls",
       "_model_module_version": "2.0.0",
       "_model_name": "ProgressStyleModel",
       "_view_count": null,
       "_view_module": "@jupyter-widgets/base",
       "_view_module_version": "2.0.0",
       "_view_name": "StyleView",
       "bar_color": null,
       "description_width": ""
      }
     },
     "7275f78d6e6745ec9b610eb804c16715": {
      "model_module": "@jupyter-widgets/base",
      "model_module_version": "2.0.0",
      "model_name": "LayoutModel",
      "state": {
       "_model_module": "@jupyter-widgets/base",
       "_model_module_version": "2.0.0",
       "_model_name": "LayoutModel",
       "_view_count": null,
       "_view_module": "@jupyter-widgets/base",
       "_view_module_version": "2.0.0",
       "_view_name": "LayoutView",
       "align_content": null,
       "align_items": null,
       "align_self": null,
       "border_bottom": null,
       "border_left": null,
       "border_right": null,
       "border_top": null,
       "bottom": null,
       "display": null,
       "flex": null,
       "flex_flow": null,
       "grid_area": null,
       "grid_auto_columns": null,
       "grid_auto_flow": null,
       "grid_auto_rows": null,
       "grid_column": null,
       "grid_gap": null,
       "grid_row": null,
       "grid_template_areas": null,
       "grid_template_columns": null,
       "grid_template_rows": null,
       "height": null,
       "justify_content": null,
       "justify_items": null,
       "left": null,
       "margin": null,
       "max_height": null,
       "max_width": null,
       "min_height": null,
       "min_width": null,
       "object_fit": null,
       "object_position": null,
       "order": null,
       "overflow": null,
       "padding": null,
       "right": null,
       "top": null,
       "visibility": null,
       "width": null
      }
     },
     "8e73374205b6422b8d58a46dd91e5117": {
      "model_module": "@jupyter-widgets/controls",
      "model_module_version": "2.0.0",
      "model_name": "HTMLModel",
      "state": {
       "_dom_classes": [],
       "_model_module": "@jupyter-widgets/controls",
       "_model_module_version": "2.0.0",
       "_model_name": "HTMLModel",
       "_view_count": null,
       "_view_module": "@jupyter-widgets/controls",
       "_view_module_version": "2.0.0",
       "_view_name": "HTMLView",
       "description": "",
       "description_allow_html": false,
       "layout": "IPY_MODEL_93fb675936694afe8c7282d189a48a0f",
       "placeholder": "​",
       "style": "IPY_MODEL_53463c03ecbc493da772856eefaa26be",
       "tabbable": null,
       "tooltip": null,
       "value": " 15/15 [16:42&lt;00:00, 64.22s/it]"
      }
     },
     "93fb675936694afe8c7282d189a48a0f": {
      "model_module": "@jupyter-widgets/base",
      "model_module_version": "2.0.0",
      "model_name": "LayoutModel",
      "state": {
       "_model_module": "@jupyter-widgets/base",
       "_model_module_version": "2.0.0",
       "_model_name": "LayoutModel",
       "_view_count": null,
       "_view_module": "@jupyter-widgets/base",
       "_view_module_version": "2.0.0",
       "_view_name": "LayoutView",
       "align_content": null,
       "align_items": null,
       "align_self": null,
       "border_bottom": null,
       "border_left": null,
       "border_right": null,
       "border_top": null,
       "bottom": null,
       "display": null,
       "flex": null,
       "flex_flow": null,
       "grid_area": null,
       "grid_auto_columns": null,
       "grid_auto_flow": null,
       "grid_auto_rows": null,
       "grid_column": null,
       "grid_gap": null,
       "grid_row": null,
       "grid_template_areas": null,
       "grid_template_columns": null,
       "grid_template_rows": null,
       "height": null,
       "justify_content": null,
       "justify_items": null,
       "left": null,
       "margin": null,
       "max_height": null,
       "max_width": null,
       "min_height": null,
       "min_width": null,
       "object_fit": null,
       "object_position": null,
       "order": null,
       "overflow": null,
       "padding": null,
       "right": null,
       "top": null,
       "visibility": null,
       "width": null
      }
     },
     "a9765bbe79ac48ddb05f6801c36bc675": {
      "model_module": "@jupyter-widgets/base",
      "model_module_version": "2.0.0",
      "model_name": "LayoutModel",
      "state": {
       "_model_module": "@jupyter-widgets/base",
       "_model_module_version": "2.0.0",
       "_model_name": "LayoutModel",
       "_view_count": null,
       "_view_module": "@jupyter-widgets/base",
       "_view_module_version": "2.0.0",
       "_view_name": "LayoutView",
       "align_content": null,
       "align_items": null,
       "align_self": null,
       "border_bottom": null,
       "border_left": null,
       "border_right": null,
       "border_top": null,
       "bottom": null,
       "display": null,
       "flex": null,
       "flex_flow": null,
       "grid_area": null,
       "grid_auto_columns": null,
       "grid_auto_flow": null,
       "grid_auto_rows": null,
       "grid_column": null,
       "grid_gap": null,
       "grid_row": null,
       "grid_template_areas": null,
       "grid_template_columns": null,
       "grid_template_rows": null,
       "height": null,
       "justify_content": null,
       "justify_items": null,
       "left": null,
       "margin": null,
       "max_height": null,
       "max_width": null,
       "min_height": null,
       "min_width": null,
       "object_fit": null,
       "object_position": null,
       "order": null,
       "overflow": null,
       "padding": null,
       "right": null,
       "top": null,
       "visibility": null,
       "width": null
      }
     },
     "aeb7390ef86d4d8e8bab51783424d0df": {
      "model_module": "@jupyter-widgets/controls",
      "model_module_version": "2.0.0",
      "model_name": "HTMLModel",
      "state": {
       "_dom_classes": [],
       "_model_module": "@jupyter-widgets/controls",
       "_model_module_version": "2.0.0",
       "_model_name": "HTMLModel",
       "_view_count": null,
       "_view_module": "@jupyter-widgets/controls",
       "_view_module_version": "2.0.0",
       "_view_name": "HTMLView",
       "description": "",
       "description_allow_html": false,
       "layout": "IPY_MODEL_a9765bbe79ac48ddb05f6801c36bc675",
       "placeholder": "​",
       "style": "IPY_MODEL_03ed8aa4b1214889adc776c31be6f9a0",
       "tabbable": null,
       "tooltip": null,
       "value": "Loading safetensors checkpoint shards: 100% Completed | 5/5 [02:57&lt;00:00, 37.48s/it]\n"
      }
     },
     "bc4a6d311c204ac396947cba33e64b8f": {
      "model_module": "@jupyter-widgets/controls",
      "model_module_version": "2.0.0",
      "model_name": "HTMLStyleModel",
      "state": {
       "_model_module": "@jupyter-widgets/controls",
       "_model_module_version": "2.0.0",
       "_model_name": "HTMLStyleModel",
       "_view_count": null,
       "_view_module": "@jupyter-widgets/base",
       "_view_module_version": "2.0.0",
       "_view_name": "StyleView",
       "background": null,
       "description_width": "",
       "font_size": null,
       "text_color": null
      }
     },
     "c8f37f30594d4d9888ec34646e92ccca": {
      "model_module": "@jupyter-widgets/base",
      "model_module_version": "2.0.0",
      "model_name": "LayoutModel",
      "state": {
       "_model_module": "@jupyter-widgets/base",
       "_model_module_version": "2.0.0",
       "_model_name": "LayoutModel",
       "_view_count": null,
       "_view_module": "@jupyter-widgets/base",
       "_view_module_version": "2.0.0",
       "_view_name": "LayoutView",
       "align_content": null,
       "align_items": null,
       "align_self": null,
       "border_bottom": null,
       "border_left": null,
       "border_right": null,
       "border_top": null,
       "bottom": null,
       "display": null,
       "flex": null,
       "flex_flow": null,
       "grid_area": null,
       "grid_auto_columns": null,
       "grid_auto_flow": null,
       "grid_auto_rows": null,
       "grid_column": null,
       "grid_gap": null,
       "grid_row": null,
       "grid_template_areas": null,
       "grid_template_columns": null,
       "grid_template_rows": null,
       "height": null,
       "justify_content": null,
       "justify_items": null,
       "left": null,
       "margin": null,
       "max_height": null,
       "max_width": null,
       "min_height": null,
       "min_width": null,
       "object_fit": null,
       "object_position": null,
       "order": null,
       "overflow": null,
       "padding": null,
       "right": null,
       "top": null,
       "visibility": null,
       "width": null
      }
     },
     "dc2c68fac5814bba9712605db025c71b": {
      "model_module": "@jupyter-widgets/controls",
      "model_module_version": "2.0.0",
      "model_name": "HTMLModel",
      "state": {
       "_dom_classes": [],
       "_model_module": "@jupyter-widgets/controls",
       "_model_module_version": "2.0.0",
       "_model_name": "HTMLModel",
       "_view_count": null,
       "_view_module": "@jupyter-widgets/controls",
       "_view_module_version": "2.0.0",
       "_view_name": "HTMLView",
       "description": "",
       "description_allow_html": false,
       "layout": "IPY_MODEL_7275f78d6e6745ec9b610eb804c16715",
       "placeholder": "​",
       "style": "IPY_MODEL_63df543ca7ed4270b3351873d27c5061",
       "tabbable": null,
       "tooltip": null,
       "value": "100%"
      }
     },
     "dea40cb92e13490f8df9dfc6b0944877": {
      "model_module": "@jupyter-widgets/base",
      "model_module_version": "2.0.0",
      "model_name": "LayoutModel",
      "state": {
       "_model_module": "@jupyter-widgets/base",
       "_model_module_version": "2.0.0",
       "_model_name": "LayoutModel",
       "_view_count": null,
       "_view_module": "@jupyter-widgets/base",
       "_view_module_version": "2.0.0",
       "_view_name": "LayoutView",
       "align_content": null,
       "align_items": null,
       "align_self": null,
       "border_bottom": null,
       "border_left": null,
       "border_right": null,
       "border_top": null,
       "bottom": null,
       "display": null,
       "flex": null,
       "flex_flow": null,
       "grid_area": null,
       "grid_auto_columns": null,
       "grid_auto_flow": null,
       "grid_auto_rows": null,
       "grid_column": null,
       "grid_gap": null,
       "grid_row": null,
       "grid_template_areas": null,
       "grid_template_columns": null,
       "grid_template_rows": null,
       "height": null,
       "justify_content": null,
       "justify_items": null,
       "left": null,
       "margin": null,
       "max_height": null,
       "max_width": null,
       "min_height": null,
       "min_width": null,
       "object_fit": null,
       "object_position": null,
       "order": null,
       "overflow": null,
       "padding": null,
       "right": null,
       "top": null,
       "visibility": null,
       "width": null
      }
     },
     "f5cbbe4f402f40d5a2268328859a2236": {
      "model_module": "@jupyter-widgets/controls",
      "model_module_version": "2.0.0",
      "model_name": "HTMLModel",
      "state": {
       "_dom_classes": [],
       "_model_module": "@jupyter-widgets/controls",
       "_model_module_version": "2.0.0",
       "_model_name": "HTMLModel",
       "_view_count": null,
       "_view_module": "@jupyter-widgets/controls",
       "_view_module_version": "2.0.0",
       "_view_name": "HTMLView",
       "description": "",
       "description_allow_html": false,
       "layout": "IPY_MODEL_0e054b62b1c84f0fb964f3df920f4627",
       "placeholder": "​",
       "style": "IPY_MODEL_bc4a6d311c204ac396947cba33e64b8f",
       "tabbable": null,
       "tooltip": null,
       "value": ""
      }
     },
     "f5e153d9c1b94e9796e6dbcd6338d379": {
      "model_module": "@jupyter-widgets/controls",
      "model_module_version": "2.0.0",
      "model_name": "FloatProgressModel",
      "state": {
       "_dom_classes": [],
       "_model_module": "@jupyter-widgets/controls",
       "_model_module_version": "2.0.0",
       "_model_name": "FloatProgressModel",
       "_view_count": null,
       "_view_module": "@jupyter-widgets/controls",
       "_view_module_version": "2.0.0",
       "_view_name": "ProgressView",
       "bar_style": "success",
       "description": "",
       "description_allow_html": false,
       "layout": "IPY_MODEL_dea40cb92e13490f8df9dfc6b0944877",
       "max": 5.0,
       "min": 0.0,
       "orientation": "horizontal",
       "style": "IPY_MODEL_6753b18ad85f434f9fd892d48d83b369",
       "tabbable": null,
       "tooltip": null,
       "value": 5.0
      }
     }
    },
    "version_major": 2,
    "version_minor": 0
   }
  }
 },
 "nbformat": 4,
 "nbformat_minor": 5
}
